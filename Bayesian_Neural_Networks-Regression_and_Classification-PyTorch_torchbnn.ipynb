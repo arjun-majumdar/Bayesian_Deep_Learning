{
 "cells": [
  {
   "cell_type": "markdown",
   "id": "8df60418-6daf-4c16-9f2a-87b378089071",
   "metadata": {},
   "source": [
    "# Regression & Classification with _Bayesian Neural Network_ in PyTorch\n",
    "\n",
    "Using ```torchbnn``` package.\n",
    "\n",
    "- [Coding reference](https://signing.tistory.com/92)\n",
    "\n",
    "- [bayesian neural network PyTorch github](https://github.com/Harry24k/bayesian-neural-network-pytorch)\n",
    "\n",
    "- [torchbnn Documentation](https://bayesian-neural-network-pytorch.readthedocs.io/_/downloads/en/latest/pdf/)\n",
    "\n",
    "- [BLiTZ — A Bayesian Neural Network library for PyTorch](https://towardsdatascience.com/blitz-a-bayesian-neural-network-library-for-pytorch-82f9998916c7)\n",
    "\n",
    "- [BLiTZ documentation](https://github.com/piEsposito/blitz-bayesian-deep-learning#Documentation)"
   ]
  },
  {
   "cell_type": "code",
   "execution_count": 1,
   "id": "a60bffbc-a61f-4719-9cce-c4573e85ad7c",
   "metadata": {},
   "outputs": [],
   "source": [
    "import torch\n",
    "import torch.nn as nn\n",
    "import torch.nn.functional as F\n",
    "import torch.optim as optim\n",
    "\n",
    "import torchbnn as bnn\n",
    "\n",
    "import matplotlib.pyplot as plt\n",
    "import pandas as pd\n",
    "import numpy as np\n",
    "from sklearn.datasets import load_iris\n",
    "from sklearn.model_selection import train_test_split\n",
    "from sklearn.preprocessing import StandardScaler, MinMaxScaler\n",
    "from sklearn.metrics import accuracy_score, precision_score, recall_score, confusion_matrix"
   ]
  },
  {
   "cell_type": "code",
   "execution_count": null,
   "id": "9ec7beef-734b-4977-ac7d-9a8d61ce9cd5",
   "metadata": {},
   "outputs": [],
   "source": []
  },
  {
   "cell_type": "code",
   "execution_count": null,
   "id": "fd816db8-1798-4cc1-bff3-b6cb38a2bab3",
   "metadata": {},
   "outputs": [],
   "source": []
  },
  {
   "cell_type": "code",
   "execution_count": 2,
   "id": "a40a8279-6a39-4eba-8fe7-663cfd50664a",
   "metadata": {},
   "outputs": [
    {
     "name": "stdout",
     "output_type": "stream",
     "text": [
      "PyTorch version: 1.11.0\n"
     ]
    }
   ],
   "source": [
    "print(f\"PyTorch version: {torch.__version__}\")"
   ]
  },
  {
   "cell_type": "code",
   "execution_count": 3,
   "id": "624c24f6-dfe7-425e-9186-5a215483814d",
   "metadata": {},
   "outputs": [
    {
     "name": "stdout",
     "output_type": "stream",
     "text": [
      "Number of GPU(s) available = 0\n",
      "PyTorch does not have access to GPU\n"
     ]
    }
   ],
   "source": [
    "# Check if there are multiple devices (i.e., GPU cards)-\n",
    "print(f\"Number of GPU(s) available = {torch.cuda.device_count()}\")\n",
    "\n",
    "# Which GPU Is The Current GPU?\n",
    "# print(f\"current GPU: {torch.cuda.current_device()}\")\n",
    "\n",
    "# Get the name of the current GPU-\n",
    "# print(f\"Current GPU name: {torch.cuda.get_device_name(torch.cuda.current_device())}\")\n",
    "\n",
    "# Is PyTorch using a GPU?\n",
    "# print(f\"Is PyTorch using a GPU? {torch.cuda.is_available()}\")\n",
    "\n",
    "if torch.cuda.is_available():\n",
    "    print(f\"Current GPU: {torch.cuda.current_device()}\")\n",
    "    print(f\"Current GPU name: {torch.cuda.get_device_name(torch.cuda.current_device())}\")\n",
    "else:\n",
    "    print(\"PyTorch does not have access to GPU\")"
   ]
  },
  {
   "cell_type": "code",
   "execution_count": 4,
   "id": "a562bdc0-81d2-46fc-a9fd-23c139643b37",
   "metadata": {},
   "outputs": [
    {
     "name": "stdout",
     "output_type": "stream",
     "text": [
      "Available device is cpu\n"
     ]
    }
   ],
   "source": [
    "# Device configuration-\n",
    "device = torch.device('cuda' if torch.cuda.is_available() else 'cpu')\n",
    "print(f'Available device is {device}')"
   ]
  },
  {
   "cell_type": "code",
   "execution_count": null,
   "id": "b59c912f-39dd-4e74-889d-ded287c3a58c",
   "metadata": {},
   "outputs": [],
   "source": []
  },
  {
   "cell_type": "code",
   "execution_count": null,
   "id": "054658d5-cb5c-475a-908f-9f293c3ad512",
   "metadata": {},
   "outputs": [],
   "source": []
  },
  {
   "cell_type": "markdown",
   "id": "c700764c-6e15-432b-93b9-aa0410fb418d",
   "metadata": {},
   "source": [
    "### Bayesian Regression"
   ]
  },
  {
   "cell_type": "markdown",
   "id": "5456f236-bb01-4eeb-81f5-3e2a4a220522",
   "metadata": {},
   "source": [
    "#### Generate random data\n",
    "\n",
    "The data is generated using the equation: $y=x^3+x^2+3\\times\\epsilon$ where $\\epsilon$ is random noise."
   ]
  },
  {
   "cell_type": "code",
   "execution_count": 5,
   "id": "da470c62-dcc0-4c72-879d-e273f071e4d9",
   "metadata": {},
   "outputs": [],
   "source": [
    "x = torch.linspace(-2, 2, 500)\n",
    "y = x.pow(3) - x.pow(2) + 3 * torch.rand(x.size())"
   ]
  },
  {
   "cell_type": "code",
   "execution_count": 6,
   "id": "3600ed2f-8b63-4538-b771-a339254e12e7",
   "metadata": {},
   "outputs": [
    {
     "data": {
      "text/plain": [
       "(torch.Size([500]), torch.Size([500]))"
      ]
     },
     "execution_count": 6,
     "metadata": {},
     "output_type": "execute_result"
    }
   ],
   "source": [
    "x.shape, y.shape"
   ]
  },
  {
   "cell_type": "code",
   "execution_count": 7,
   "id": "86388a1c-ff55-4305-b2c7-1ae85e18b7f7",
   "metadata": {},
   "outputs": [],
   "source": [
    "x = torch.unsqueeze(x, dim = 1)\n",
    "y = torch.unsqueeze(y, dim = 1)"
   ]
  },
  {
   "cell_type": "code",
   "execution_count": 8,
   "id": "68ce16c8-5d15-4af0-a497-79eaf927a140",
   "metadata": {},
   "outputs": [
    {
     "data": {
      "text/plain": [
       "(torch.Size([500, 1]), torch.Size([500, 1]))"
      ]
     },
     "execution_count": 8,
     "metadata": {},
     "output_type": "execute_result"
    }
   ],
   "source": [
    "x.shape, y.shape"
   ]
  },
  {
   "cell_type": "code",
   "execution_count": null,
   "id": "e6e9c450-5537-493d-a6dc-78d7bf76ef57",
   "metadata": {},
   "outputs": [],
   "source": []
  },
  {
   "cell_type": "code",
   "execution_count": 9,
   "id": "72a0b6d5-fc6c-4a36-82ba-a48a78fb8bd6",
   "metadata": {},
   "outputs": [
    {
     "data": {
      "image/png": "[encoded data removed]",
      "text/plain": [
       "<Figure size 648x504 with 1 Axes>"
      ]
     },
     "metadata": {
      "needs_background": "light"
     },
     "output_type": "display_data"
    }
   ],
   "source": [
    "plt.figure(figsize = (9, 7))\n",
    "plt.scatter(x.data.numpy(), y.data.numpy())\n",
    "plt.title(\"Data Visualization with scatter plot\")\n",
    "plt.show()"
   ]
  },
  {
   "cell_type": "code",
   "execution_count": null,
   "id": "7632dd81-eb4d-4b35-a394-47249d4b2513",
   "metadata": {},
   "outputs": [],
   "source": []
  },
  {
   "cell_type": "code",
   "execution_count": null,
   "id": "12cf03da-c737-417b-8147-71a0ab55641a",
   "metadata": {},
   "outputs": [],
   "source": []
  },
  {
   "cell_type": "markdown",
   "id": "2f2af1ba-e321-426c-a996-dbec543aa284",
   "metadata": {},
   "source": [
    "### Define _Bayesian_ Neural Network architecture for _Regression_\n",
    "\n",
    "1. The BNN regressor has one single fully-connected layer having 100 neurons in it.\n",
    "\n",
    "1. But since this layer is a Bayeisna Neural Network, the weights do not have fixed values but rather distributions. Hence, ```BayesLinear``` layer is used.\n",
    "\n",
    "1. ```prior_mu``` and ```prior_sigma``` are parameters for defining the Gaussian distribution because the distribution has already been set to be a Gaussian."
   ]
  },
  {
   "cell_type": "code",
   "execution_count": 10,
   "id": "02b7cfe8-6b79-49ba-8c7e-b163e00a97b1",
   "metadata": {},
   "outputs": [],
   "source": [
    "class Bayes_NN_Regressor(nn.Module):\n",
    "    def __init__(self):\n",
    "        super(Bayes_NN_Regressor, self).__init__()\n",
    "        \n",
    "        self.bayes_dense_1 = bnn.BayesLinear(\n",
    "            prior_mu = 0.0, prior_sigma = 1.0,\n",
    "            in_features = 1, out_features = 100\n",
    "        )\n",
    "        \n",
    "        self.bayes_dense_2 = bnn.BayesLinear(\n",
    "            prior_mu = 0.0, prior_sigma = 1.0,\n",
    "            in_features = 100, out_features = 1\n",
    "        )\n",
    "        \n",
    "    def forward(self, x):\n",
    "        x = x = F.relu(self.bayes_dense_1(x))\n",
    "        x = self.bayes_dense_2(x)\n",
    "        return x\n",
    "    "
   ]
  },
  {
   "cell_type": "code",
   "execution_count": null,
   "id": "e754c313-3757-4c5d-bfb2-766d8ab14b95",
   "metadata": {},
   "outputs": [],
   "source": []
  },
  {
   "cell_type": "code",
   "execution_count": 11,
   "id": "4b97ed79-c46b-48ee-93cb-1fcc72cec5e5",
   "metadata": {},
   "outputs": [],
   "source": [
    "# Initialize an instance of Bayes NN regressor-\n",
    "model = Bayes_NN_Regressor().to(device)"
   ]
  },
  {
   "cell_type": "code",
   "execution_count": null,
   "id": "4e1a1f8e-7799-4c97-850a-2d8cd2818818",
   "metadata": {},
   "outputs": [],
   "source": []
  },
  {
   "cell_type": "code",
   "execution_count": null,
   "id": "9c38f9fb-bca3-4940-a564-d49126ac33ac",
   "metadata": {},
   "outputs": [],
   "source": []
  },
  {
   "cell_type": "code",
   "execution_count": 12,
   "id": "a78d19c5-419f-4886-8138-d12a89f889b7",
   "metadata": {},
   "outputs": [
    {
     "name": "stdout",
     "output_type": "stream",
     "text": [
      "layer.shape = torch.Size([100, 1]) has 100 parameters\n",
      "layer.shape = torch.Size([100, 1]) has 100 parameters\n",
      "layer.shape = torch.Size([100]) has 100 parameters\n",
      "layer.shape = torch.Size([100]) has 100 parameters\n",
      "layer.shape = torch.Size([1, 100]) has 100 parameters\n",
      "layer.shape = torch.Size([1, 100]) has 100 parameters\n",
      "layer.shape = torch.Size([1]) has 1 parameters\n",
      "layer.shape = torch.Size([1]) has 1 parameters\n"
     ]
    }
   ],
   "source": [
    "# Count number of layer-wise parameters and total parameters-\n",
    "tot_params = 0\n",
    "for param in model.parameters():\n",
    "    print(f\"layer.shape = {param.shape} has {param.nelement()} parameters\")\n",
    "    tot_params += param.nelement()"
   ]
  },
  {
   "cell_type": "code",
   "execution_count": 13,
   "id": "3cc061b2-a0c8-44e9-8666-790a120eaf23",
   "metadata": {},
   "outputs": [
    {
     "name": "stdout",
     "output_type": "stream",
     "text": [
      "Total number of parameters in Bayes Neural Network regressor model = 602\n"
     ]
    }
   ],
   "source": [
    "print(f\"Total number of parameters in Bayes Neural Network regressor model = {tot_params}\")"
   ]
  },
  {
   "cell_type": "code",
   "execution_count": null,
   "id": "211c589d-ba1f-4156-b484-9a8ae2737fc2",
   "metadata": {},
   "outputs": [],
   "source": []
  },
  {
   "cell_type": "code",
   "execution_count": 14,
   "id": "ed8546d4-2d7e-440c-b3d5-6fbbc4d04d40",
   "metadata": {},
   "outputs": [],
   "source": [
    "# Sanity check-\n",
    "pred = model(x[:5, :])"
   ]
  },
  {
   "cell_type": "code",
   "execution_count": 15,
   "id": "c938d12d-6176-4aab-abd1-7b5e60946611",
   "metadata": {},
   "outputs": [
    {
     "data": {
      "text/plain": [
       "(torch.Size([5, 1]), torch.Size([5, 1]))"
      ]
     },
     "execution_count": 15,
     "metadata": {},
     "output_type": "execute_result"
    }
   ],
   "source": [
    "x[:5, :].shape, pred.shape"
   ]
  },
  {
   "cell_type": "code",
   "execution_count": 16,
   "id": "067240c7-0cad-4896-b3fc-780c53a757cd",
   "metadata": {},
   "outputs": [],
   "source": [
    "del pred"
   ]
  },
  {
   "cell_type": "code",
   "execution_count": null,
   "id": "0fcf7483-bb37-40a7-9c9d-82acce69c0a8",
   "metadata": {},
   "outputs": [],
   "source": []
  },
  {
   "cell_type": "code",
   "execution_count": null,
   "id": "b8f48cd7-38f4-4c1a-a89c-6469da345b6d",
   "metadata": {},
   "outputs": [],
   "source": []
  },
  {
   "cell_type": "markdown",
   "id": "9d33c25f-1254-4b74-95e3-397f2f60b592",
   "metadata": {},
   "source": [
    "#### Define losses for BNN\n",
    "\n",
    "The parameters of ```BKLLoss``` function are:\n",
    "\n",
    "1. ```reduction```: Specifies the reduction to be applied to the output. Other reductions include: 'mean' and 'sum'.\n",
    "\n",
    "1. ```last_layer_only```: True for returning only the last layer's KL-divergence."
   ]
  },
  {
   "cell_type": "code",
   "execution_count": 17,
   "id": "2458941a-4aab-4a50-b095-a45065343298",
   "metadata": {},
   "outputs": [],
   "source": [
    "# Mean-squared error loss-\n",
    "mse_loss = nn.MSELoss()\n",
    "\n",
    "# Loss for calculating KL-divergence of BNN regressor model-\n",
    "kl_loss = bnn.BKLLoss(reduction = 'mean', last_layer_only = False)"
   ]
  },
  {
   "cell_type": "code",
   "execution_count": 18,
   "id": "135f8d41-cd9d-4711-8007-eb84179c0f49",
   "metadata": {},
   "outputs": [],
   "source": [
    "# Use Adam gradient descent optimizer-\n",
    "optimizer = optim.Adam(model.parameters(), lr = 0.01)"
   ]
  },
  {
   "cell_type": "code",
   "execution_count": null,
   "id": "cab29e45-5dae-4536-bbb3-da6e8d2d180f",
   "metadata": {},
   "outputs": [],
   "source": []
  },
  {
   "cell_type": "code",
   "execution_count": null,
   "id": "bfcea92b-43f3-4f8c-bd8b-faf795e2dca6",
   "metadata": {},
   "outputs": [],
   "source": []
  },
  {
   "cell_type": "markdown",
   "id": "5adfcfa7-ed21-42bf-8c2c-c03e40e991ac",
   "metadata": {},
   "source": [
    "### Train BNN regressor"
   ]
  },
  {
   "cell_type": "code",
   "execution_count": 19,
   "id": "6732ea2b-6d73-475a-894e-de732dc65a63",
   "metadata": {},
   "outputs": [],
   "source": [
    "# KL-divergence term: Hyperparameter to control the importance of reconstruction\n",
    "# loss vs KL-Divergence Loss-\n",
    "kl_weight = 1"
   ]
  },
  {
   "cell_type": "code",
   "execution_count": 20,
   "id": "a2ba4d37-a44c-486a-9c3e-edf03b613c61",
   "metadata": {},
   "outputs": [],
   "source": [
    "# Python3 dict to contain losses-\n",
    "bnn_losses = {}"
   ]
  },
  {
   "cell_type": "code",
   "execution_count": null,
   "id": "cbd5bcbb-4732-4718-bd2d-ddf088a10055",
   "metadata": {},
   "outputs": [],
   "source": []
  },
  {
   "cell_type": "code",
   "execution_count": 21,
   "id": "8f7454ec-97df-4f1d-a787-6b5adc3bea96",
   "metadata": {},
   "outputs": [
    {
     "name": "stdout",
     "output_type": "stream",
     "text": [
      "step: 0.0000, total cost: 37.9325, KL-div loss = 0.1073 & MSE = 37.8252\n",
      "step: 100.0000, total cost: 157.2941, KL-div loss = 0.1118 & MSE = 157.1823\n",
      "step: 200.0000, total cost: 9.3306, KL-div loss = 0.1303 & MSE = 9.2002\n",
      "step: 300.0000, total cost: 36.7430, KL-div loss = 0.1474 & MSE = 36.5956\n",
      "step: 400.0000, total cost: 83.6633, KL-div loss = 0.1715 & MSE = 83.4918\n",
      "step: 500.0000, total cost: 36.5386, KL-div loss = 0.1936 & MSE = 36.3450\n",
      "step: 600.0000, total cost: 14.6762, KL-div loss = 0.2163 & MSE = 14.4599\n",
      "step: 700.0000, total cost: 15.1007, KL-div loss = 0.2350 & MSE = 14.8657\n",
      "step: 800.0000, total cost: 18.9512, KL-div loss = 0.2536 & MSE = 18.6976\n",
      "step: 900.0000, total cost: 11.4231, KL-div loss = 0.2771 & MSE = 11.1460\n",
      "step: 1000.0000, total cost: 4.3836, KL-div loss = 0.2953 & MSE = 4.0883\n",
      "step: 1100.0000, total cost: 12.8201, KL-div loss = 0.3155 & MSE = 12.5046\n",
      "step: 1200.0000, total cost: 15.8504, KL-div loss = 0.3328 & MSE = 15.5176\n",
      "step: 1300.0000, total cost: 15.8840, KL-div loss = 0.3515 & MSE = 15.5325\n",
      "step: 1400.0000, total cost: 5.7943, KL-div loss = 0.3700 & MSE = 5.4243\n",
      "step: 1500.0000, total cost: 4.4471, KL-div loss = 0.3877 & MSE = 4.0594\n",
      "step: 1600.0000, total cost: 3.5273, KL-div loss = 0.4063 & MSE = 3.1210\n",
      "step: 1700.0000, total cost: 2.9670, KL-div loss = 0.4227 & MSE = 2.5443\n",
      "step: 1800.0000, total cost: 23.3857, KL-div loss = 0.4396 & MSE = 22.9461\n",
      "step: 1900.0000, total cost: 4.7439, KL-div loss = 0.4585 & MSE = 4.2853\n",
      "step: 2000.0000, total cost: 4.6163, KL-div loss = 0.4752 & MSE = 4.1411\n",
      "step: 2100.0000, total cost: 3.9696, KL-div loss = 0.4910 & MSE = 3.4786\n",
      "step: 2200.0000, total cost: 3.2510, KL-div loss = 0.5079 & MSE = 2.7430\n",
      "step: 2300.0000, total cost: 2.6641, KL-div loss = 0.5251 & MSE = 2.1390\n",
      "step: 2400.0000, total cost: 4.0429, KL-div loss = 0.5409 & MSE = 3.5020\n",
      "step: 2500.0000, total cost: 2.3315, KL-div loss = 0.5544 & MSE = 1.7770\n",
      "step: 2600.0000, total cost: 3.0654, KL-div loss = 0.5699 & MSE = 2.4954\n",
      "step: 2700.0000, total cost: 2.8792, KL-div loss = 0.5811 & MSE = 2.2982\n",
      "step: 2800.0000, total cost: 4.4299, KL-div loss = 0.5949 & MSE = 3.8350\n",
      "step: 2900.0000, total cost: 2.1482, KL-div loss = 0.6072 & MSE = 1.5410\n"
     ]
    }
   ],
   "source": [
    "for step in range(3000):\n",
    "    # Make predictions-\n",
    "    pred = model(x)\n",
    "    \n",
    "    # Compute MSE error-\n",
    "    mse = mse_loss(pred, y)\n",
    "    \n",
    "    # Compute KL-divergence loss-\n",
    "    kl = kl_loss(model)\n",
    "    \n",
    "    # Compute total cost-\n",
    "    total_cost = mse + (kl_weight * kl)\n",
    "    \n",
    "    # Empty accumulated gradients-\n",
    "    optimizer.zero_grad()\n",
    "    \n",
    "    # Perform gradient descent-\n",
    "    total_cost.backward()\n",
    "    optimizer.step()\n",
    "    \n",
    "    if step % 100 == 0:\n",
    "        print(f\"step: {step:.4f}, total cost: {total_cost.detach().numpy()[0]:.4f}\"\n",
    "              f\", KL-div loss = {kl.detach().numpy()[0]:.4f} & \"\n",
    "              f\"MSE = {mse.detach().numpy():.4f}\"\n",
    "             )\n",
    "    \n",
    "    # Store in dict-\n",
    "    bnn_losses[step] = {\n",
    "        'total_cost': total_cost.detach().numpy(), 'kl_loss': kl.detach().numpy()[0],\n",
    "        'mse': mse.detach().numpy()\n",
    "    }\n",
    "    \n"
   ]
  },
  {
   "cell_type": "code",
   "execution_count": null,
   "id": "db0d97de-5820-4f4f-b944-f2472e1a9b81",
   "metadata": {},
   "outputs": [],
   "source": []
  },
  {
   "cell_type": "code",
   "execution_count": null,
   "id": "72e4e389-58e0-4d8f-a1ac-37574ca6568b",
   "metadata": {},
   "outputs": [],
   "source": []
  },
  {
   "cell_type": "markdown",
   "id": "de049916-16ca-4cdb-b779-c0c19cd4e2de",
   "metadata": {},
   "source": [
    "### Visualize BNN training"
   ]
  },
  {
   "cell_type": "code",
   "execution_count": 22,
   "id": "fe5c5e51-d3d4-4825-9dd1-cc1ce40bcd58",
   "metadata": {},
   "outputs": [
    {
     "data": {
      "image/png": "[encoded data removed]",
      "text/plain": [
       "<Figure size 648x504 with 1 Axes>"
      ]
     },
     "metadata": {
      "needs_background": "light"
     },
     "output_type": "display_data"
    }
   ],
   "source": [
    "plt.figure(figsize = (9, 7))\n",
    "plt.plot([bnn_losses[s]['total_cost'] for s in bnn_losses.keys()], label = 'total cost')\n",
    "plt.plot([bnn_losses[s]['mse'] for s in bnn_losses.keys()], label = 'MSE')\n",
    "plt.title(\"Bayesian Neural Network Regressor - Losses\")\n",
    "plt.legend(loc = 'best')\n",
    "plt.show()"
   ]
  },
  {
   "cell_type": "code",
   "execution_count": 23,
   "id": "171d20cd-20e3-46c8-850b-0020bdabc39f",
   "metadata": {},
   "outputs": [
    {
     "data": {
      "image/png": "[encoded data removed]",
      "text/plain": [
       "<Figure size 648x504 with 1 Axes>"
      ]
     },
     "metadata": {
      "needs_background": "light"
     },
     "output_type": "display_data"
    }
   ],
   "source": [
    "plt.figure(figsize = (9, 7))\n",
    "plt.plot([bnn_losses[s]['kl_loss'] for s in bnn_losses.keys()], label = 'kl-div loss')\n",
    "plt.title(\"Bayesian Neural Network Regressor - Losses\")\n",
    "plt.legend(loc = 'best')\n",
    "plt.show()"
   ]
  },
  {
   "cell_type": "code",
   "execution_count": null,
   "id": "e0ce91b2-c81a-4e07-9fa7-cb3f5b7270c2",
   "metadata": {},
   "outputs": [],
   "source": []
  },
  {
   "cell_type": "code",
   "execution_count": null,
   "id": "6783753d-2080-4f7d-ab09-654581237fa0",
   "metadata": {},
   "outputs": [],
   "source": []
  },
  {
   "cell_type": "markdown",
   "id": "422b5411-14f5-496c-a02a-f8de1a1d64f4",
   "metadata": {},
   "source": [
    "### Test trained BNN regressor"
   ]
  },
  {
   "cell_type": "code",
   "execution_count": 24,
   "id": "a2c252c6-6563-4cdc-9e5b-aae651a4abb5",
   "metadata": {},
   "outputs": [],
   "source": [
    "x_test = torch.linspace(-2, 2, 500)\n",
    "y_test = x_test.pow(3) - x_test.pow(2) + 3 * torch.rand(x_test.size())\n",
    "\n",
    "x_test = torch.unsqueeze(x_test, dim = 1)\n",
    "y_test = torch.unsqueeze(y_test, dim = 1)"
   ]
  },
  {
   "cell_type": "code",
   "execution_count": 25,
   "id": "9c15677e-3eee-499e-9bfa-a546d8c41123",
   "metadata": {},
   "outputs": [
    {
     "data": {
      "text/plain": [
       "(torch.Size([500, 1]), torch.Size([500, 1]))"
      ]
     },
     "execution_count": 25,
     "metadata": {},
     "output_type": "execute_result"
    }
   ],
   "source": [
    "x_test.shape, y_test.shape"
   ]
  },
  {
   "cell_type": "code",
   "execution_count": null,
   "id": "391ead41-5d44-43c9-a4b5-2bf1611943c0",
   "metadata": {},
   "outputs": [],
   "source": []
  },
  {
   "cell_type": "code",
   "execution_count": null,
   "id": "a5663e61-a5ed-43cf-b4fc-2541e98f1245",
   "metadata": {},
   "outputs": [],
   "source": []
  },
  {
   "cell_type": "markdown",
   "id": "6fd5995d-f913-442e-9e91-c9a62a8c2a35",
   "metadata": {},
   "source": [
    "### Visualize BNN output\n",
    "\n",
    "- The result of training by generating three outputs can be visualized below. Each time, we get a different model.\n",
    "\n",
    "- It is a different model with very slight differences.\n",
    "\n",
    "- This is so __due to BNN where the weights exist as distributions__.\n",
    "\n",
    "- Even with the same input, the result is different each time."
   ]
  },
  {
   "cell_type": "code",
   "execution_count": 26,
   "id": "97b2b18e-29e2-4762-b6d1-65f55d18fa32",
   "metadata": {},
   "outputs": [
    {
     "data": {
      "image/png": "[encoded data removed]",
      "text/plain": [
       "<Figure size 648x504 with 1 Axes>"
      ]
     },
     "metadata": {
      "needs_background": "light"
     },
     "output_type": "display_data"
    }
   ],
   "source": [
    "# Visualize true vs. predicted values-\n",
    "plt.figure(figsize = (9, 7))\n",
    "\n",
    "# First prediction-\n",
    "y_predict = model(x_test)\n",
    "plt.scatter(x_test.data.numpy(), y_test.data.numpy(), color = 'k', s = 2)\n",
    "plt.plot(x_test.data.numpy(), y_predict.data.numpy(), 'r-', linewidth = 2, label = 'First Prediction')\n",
    "\n",
    "# Second prediction-\n",
    "y_predict = model(x_test)\n",
    "plt.plot(x_test.data.numpy(), y_predict.data.numpy(), 'b-', linewidth = 2, label = 'Second Prediction')\n",
    "\n",
    "# Third prediction-\n",
    "y_predict = model(x_test)\n",
    "plt.plot(x_test.data.numpy(), y_predict.data.numpy(), 'g-', linewidth = 2, label = 'Third Prediction')\n",
    "\n",
    "plt.legend(loc = 'best')\n",
    "plt.title(\"Bayesian Neural Network Regressor Visualizations\")\n",
    "plt.xlabel(r'$x$')\n",
    "plt.ylabel(r'$y$')\n",
    "plt.show()"
   ]
  },
  {
   "cell_type": "code",
   "execution_count": null,
   "id": "b7af9861-f017-4c11-bf30-76c588ca3c1b",
   "metadata": {},
   "outputs": [],
   "source": []
  },
  {
   "cell_type": "code",
   "execution_count": null,
   "id": "7fb56d1f-6f31-4ac0-8eca-16bd8033810c",
   "metadata": {},
   "outputs": [],
   "source": []
  },
  {
   "cell_type": "code",
   "execution_count": null,
   "id": "c3ed97a1-4cbe-4c45-a7ab-8f52a65e72b5",
   "metadata": {},
   "outputs": [],
   "source": []
  },
  {
   "cell_type": "code",
   "execution_count": null,
   "id": "abb43068-0fb6-4675-9bf6-8d303a38aecc",
   "metadata": {},
   "outputs": [],
   "source": []
  },
  {
   "cell_type": "markdown",
   "id": "f9b87344-8556-46a1-9b38-6347ab139599",
   "metadata": {},
   "source": [
    "## Bayesian Neural Networks Classification\n",
    "\n",
    "With _Iris_ dataset."
   ]
  },
  {
   "cell_type": "code",
   "execution_count": 5,
   "id": "a40e8d58-c81d-42f3-9228-7dee60e15a0a",
   "metadata": {},
   "outputs": [],
   "source": [
    "# Get Iris dataset for classification-\n",
    "iris = load_iris()\n",
    "X = iris.data\n",
    "Y = iris.target"
   ]
  },
  {
   "cell_type": "code",
   "execution_count": 6,
   "id": "255f9c2f-fa9b-4e95-bdc7-f88db93f52bb",
   "metadata": {},
   "outputs": [
    {
     "data": {
      "text/plain": [
       "((150, 4), (150,))"
      ]
     },
     "execution_count": 6,
     "metadata": {},
     "output_type": "execute_result"
    }
   ],
   "source": [
    "X.shape, Y.shape"
   ]
  },
  {
   "cell_type": "code",
   "execution_count": null,
   "id": "86e7fd2e-c6cd-4414-a282-e54f67c2e281",
   "metadata": {},
   "outputs": [],
   "source": []
  },
  {
   "cell_type": "code",
   "execution_count": 7,
   "id": "0285683b-e8e6-411b-8b45-9fce938289e6",
   "metadata": {},
   "outputs": [],
   "source": [
    "# Scale features-\n",
    "std_scaler = StandardScaler()\n",
    "X_scaled = std_scaler.fit_transform(X)"
   ]
  },
  {
   "cell_type": "code",
   "execution_count": 8,
   "id": "5e2c8261-bdc3-410f-9b0a-348f694e4685",
   "metadata": {},
   "outputs": [
    {
     "data": {
      "text/plain": [
       "((150, 4), (150, 4))"
      ]
     },
     "execution_count": 8,
     "metadata": {},
     "output_type": "execute_result"
    }
   ],
   "source": [
    "# Sanity check-\n",
    "X.shape, X_scaled.shape"
   ]
  },
  {
   "cell_type": "code",
   "execution_count": 9,
   "id": "11eee36f-b390-40de-81a0-25661029046d",
   "metadata": {},
   "outputs": [
    {
     "data": {
      "text/plain": [
       "(-2.43394714190809, 3.0907752482994253)"
      ]
     },
     "execution_count": 9,
     "metadata": {},
     "output_type": "execute_result"
    }
   ],
   "source": [
    "# Sanity check-\n",
    "X_scaled.min(), X_scaled.max()"
   ]
  },
  {
   "cell_type": "code",
   "execution_count": null,
   "id": "723136aa-5fe5-4325-8a20-edd041f21cad",
   "metadata": {},
   "outputs": [],
   "source": []
  },
  {
   "cell_type": "code",
   "execution_count": null,
   "id": "b02d8ea6-ebf7-48e2-bfae-6a499c8ddabd",
   "metadata": {},
   "outputs": [],
   "source": []
  },
  {
   "cell_type": "code",
   "execution_count": 10,
   "id": "62921533-5bc6-4f98-8639-4cff907457f2",
   "metadata": {},
   "outputs": [],
   "source": [
    "# Split into train and test sets-\n",
    "X_train, X_test, y_train, y_test = train_test_split(\n",
    "    X_scaled, Y, test_size = 0.2\n",
    ")"
   ]
  },
  {
   "cell_type": "code",
   "execution_count": 11,
   "id": "ad2f6f42-8112-437e-946b-b959f0721645",
   "metadata": {},
   "outputs": [
    {
     "name": "stdout",
     "output_type": "stream",
     "text": [
      "X_train.shape: (120, 4), y_train.shape: (120,)\n",
      "X_test.shape: (30, 4), y_test.shape: (30,)\n"
     ]
    }
   ],
   "source": [
    "print(f\"X_train.shape: {X_train.shape}, y_train.shape: {y_train.shape}\")\n",
    "print(f\"X_test.shape: {X_test.shape}, y_test.shape: {y_test.shape}\")"
   ]
  },
  {
   "cell_type": "code",
   "execution_count": null,
   "id": "b4db2d3c-a55e-419b-8201-f34ba7349c23",
   "metadata": {},
   "outputs": [],
   "source": []
  },
  {
   "cell_type": "code",
   "execution_count": 12,
   "id": "7f2df292-b3cc-4911-b427-b527866f7573",
   "metadata": {},
   "outputs": [],
   "source": [
    "# Convert to float values-\n",
    "X_train = torch.from_numpy(X_train).float()\n",
    "X_test = torch.from_numpy(X_test).float()\n",
    "y_train = torch.from_numpy(y_train).float().long()\n",
    "y_test = torch.from_numpy(y_test).float().long()"
   ]
  },
  {
   "cell_type": "code",
   "execution_count": null,
   "id": "210c0825-6721-4bc8-bfef-eb48e3f3d4c5",
   "metadata": {},
   "outputs": [],
   "source": []
  },
  {
   "cell_type": "code",
   "execution_count": 13,
   "id": "b14f5b74-2804-45ea-a964-f0321903bbaf",
   "metadata": {},
   "outputs": [
    {
     "data": {
      "text/plain": [
       "(tensor([[-5.2506e-02, -8.2257e-01,  8.0709e-02,  8.7755e-04],\n",
       "         [-1.0218e+00, -2.4339e+00, -1.4664e-01, -2.6239e-01],\n",
       "         [-1.1430e+00, -1.5132e+00, -2.6032e-01, -2.6239e-01],\n",
       "         [ 1.8983e-01, -1.3198e-01,  5.9225e-01,  7.9067e-01],\n",
       "         [-1.3854e+00,  3.2841e-01, -1.2266e+00, -1.3154e+00]]),\n",
       " tensor([1, 1, 1, 2, 0]))"
      ]
     },
     "execution_count": 13,
     "metadata": {},
     "output_type": "execute_result"
    }
   ],
   "source": [
    "# Sanity check-\n",
    "X_train[:5, :], y_train[:5]"
   ]
  },
  {
   "cell_type": "code",
   "execution_count": 14,
   "id": "402802ff-e3bb-41ee-bc37-7f6d7f90dcf8",
   "metadata": {},
   "outputs": [
    {
     "data": {
      "text/plain": [
       "(tensor([[-0.9007,  1.7096, -1.0560, -1.0522],\n",
       "         [ 1.4015,  0.3284,  0.5354,  0.2641],\n",
       "         [ 1.7650, -0.3622,  1.4448,  0.7907],\n",
       "         [-1.1430,  0.0982, -1.2834, -1.3154],\n",
       "         [-0.4160,  2.6304, -1.3402, -1.3154]]),\n",
       " tensor([0, 1, 2, 0, 0]))"
      ]
     },
     "execution_count": 14,
     "metadata": {},
     "output_type": "execute_result"
    }
   ],
   "source": [
    "X_test[:5, :], y_test[:5]"
   ]
  },
  {
   "cell_type": "code",
   "execution_count": null,
   "id": "623af113-371f-4656-a07b-79949777b606",
   "metadata": {},
   "outputs": [],
   "source": []
  },
  {
   "cell_type": "code",
   "execution_count": null,
   "id": "97993067-d38d-4a32-8f2b-ec8f130e30d0",
   "metadata": {},
   "outputs": [],
   "source": []
  },
  {
   "cell_type": "code",
   "execution_count": 15,
   "id": "a05c79fb-66f1-467d-aa3c-6f175c062c77",
   "metadata": {},
   "outputs": [],
   "source": [
    "class Bayes_NN_Classifier(nn.Module):\n",
    "    def __init__(self):\n",
    "        super(Bayes_NN_Classifier, self).__init__()\n",
    "        \n",
    "        self.bayes_dense_1 = bnn.BayesLinear(\n",
    "            prior_mu = 0.0, prior_sigma = 1.0,\n",
    "            in_features = 4, out_features = 100\n",
    "        )\n",
    "        \n",
    "        self.bayes_dense_2 = bnn.BayesLinear(\n",
    "            prior_mu = 0.0, prior_sigma = 1.0,\n",
    "            in_features = 100, out_features = 3\n",
    "        )\n",
    "        \n",
    "    def forward(self, x):\n",
    "        x = x = F.relu(self.bayes_dense_1(x))\n",
    "        x = self.bayes_dense_2(x)\n",
    "        return x\n",
    "    "
   ]
  },
  {
   "cell_type": "code",
   "execution_count": null,
   "id": "44fc1b13-a2f2-4826-bce8-c8321e37c7fa",
   "metadata": {},
   "outputs": [],
   "source": []
  },
  {
   "cell_type": "code",
   "execution_count": 16,
   "id": "43f608e5-2423-4f0d-b8ff-65c698a758bd",
   "metadata": {},
   "outputs": [],
   "source": [
    "# Initialize an instance-\n",
    "model = Bayes_NN_Classifier().to(device)"
   ]
  },
  {
   "cell_type": "code",
   "execution_count": null,
   "id": "d176fb8c-e239-4217-8a03-5bb288ecf920",
   "metadata": {},
   "outputs": [],
   "source": []
  },
  {
   "cell_type": "code",
   "execution_count": 17,
   "id": "da7d9613-419f-461f-8dd1-6facbbb1d255",
   "metadata": {},
   "outputs": [],
   "source": [
    "# Sanity check-\n",
    "pred = model(X_train[:5, :])"
   ]
  },
  {
   "cell_type": "code",
   "execution_count": 18,
   "id": "388f1541-e092-4b3e-a79e-307e3b8c91a1",
   "metadata": {},
   "outputs": [
    {
     "data": {
      "text/plain": [
       "(torch.Size([5, 3]), torch.Size([5]))"
      ]
     },
     "execution_count": 18,
     "metadata": {},
     "output_type": "execute_result"
    }
   ],
   "source": [
    "pred.shape, y_train[:5].shape"
   ]
  },
  {
   "cell_type": "code",
   "execution_count": 19,
   "id": "49177ce0-a6db-40ec-a2d5-c5e351878dd3",
   "metadata": {},
   "outputs": [
    {
     "data": {
      "text/plain": [
       "tensor([[  0.0584,   5.4323,  -7.3059],\n",
       "        [  3.5815,  10.8913, -20.0326],\n",
       "        [  7.1695,   7.5820, -10.3725],\n",
       "        [ 12.7823,   0.7344, -22.6335],\n",
       "        [ 10.2763,  20.0217, -10.3257]], grad_fn=<AddmmBackward0>)"
      ]
     },
     "execution_count": 19,
     "metadata": {},
     "output_type": "execute_result"
    }
   ],
   "source": [
    "pred"
   ]
  },
  {
   "cell_type": "code",
   "execution_count": 20,
   "id": "e015ba0d-958d-44e5-9ddc-7f4fe891b7eb",
   "metadata": {},
   "outputs": [],
   "source": [
    "del pred"
   ]
  },
  {
   "cell_type": "code",
   "execution_count": null,
   "id": "6489ba2b-c4a0-4e0c-9f98-8f38239be19a",
   "metadata": {},
   "outputs": [],
   "source": []
  },
  {
   "cell_type": "code",
   "execution_count": null,
   "id": "d4608f2b-8abc-4b8b-8f47-1ba9fe0ec742",
   "metadata": {},
   "outputs": [],
   "source": []
  },
  {
   "cell_type": "code",
   "execution_count": 21,
   "id": "036973f4-a1f9-40b5-b901-a0342ec8666a",
   "metadata": {},
   "outputs": [],
   "source": [
    "# Cross-entropy loss-\n",
    "ce_loss = nn.CrossEntropyLoss()\n",
    "\n",
    "# Loss for calculating KL-divergence of BNN regressor model-\n",
    "kl_loss = bnn.BKLLoss(reduction = 'mean', last_layer_only = False)"
   ]
  },
  {
   "cell_type": "code",
   "execution_count": 22,
   "id": "e8e51489-05ab-43dc-94da-3b5f138c6603",
   "metadata": {},
   "outputs": [],
   "source": [
    "# Use Adam gradient descent optimizer-\n",
    "optimizer = optim.Adam(model.parameters(), lr = 0.01)"
   ]
  },
  {
   "cell_type": "code",
   "execution_count": null,
   "id": "08cb5c1f-a4c2-4131-a8b0-7665722285d8",
   "metadata": {},
   "outputs": [],
   "source": []
  },
  {
   "cell_type": "code",
   "execution_count": null,
   "id": "cc4a8e85-c113-4649-ab3e-ac50b2c8ab3b",
   "metadata": {},
   "outputs": [],
   "source": []
  },
  {
   "cell_type": "markdown",
   "id": "4cede229-0838-454a-a1c8-faa6f673340b",
   "metadata": {},
   "source": [
    "### Train BNN classifier"
   ]
  },
  {
   "cell_type": "code",
   "execution_count": 23,
   "id": "5464a63e-b7bc-462d-864f-5bb0addd0b78",
   "metadata": {},
   "outputs": [],
   "source": [
    "# KL-divergence term: Hyperparameter to control the importance of reconstruction\n",
    "# loss vs KL-Divergence Loss-\n",
    "kl_weight = 1"
   ]
  },
  {
   "cell_type": "code",
   "execution_count": 24,
   "id": "a563f853-2a7d-438a-8e9c-a59fdf41d652",
   "metadata": {},
   "outputs": [],
   "source": [
    "# Python3 dict to contain losses-\n",
    "bnn_losses = {}"
   ]
  },
  {
   "cell_type": "code",
   "execution_count": null,
   "id": "f61ee7b7-273b-46c2-adde-832ffc87cd00",
   "metadata": {},
   "outputs": [],
   "source": []
  },
  {
   "cell_type": "code",
   "execution_count": 25,
   "id": "add69bf5-c442-4d66-889a-f22f6403c610",
   "metadata": {},
   "outputs": [
    {
     "name": "stdout",
     "output_type": "stream",
     "text": [
      "epoch: 0, total cost: 3.0340, KL-div loss = 0.0278, Cross-entropy loss = 3.0061 & accuracy = 57.50%\n",
      "epoch: 100, total cost: 16.2144, KL-div loss = 0.0504, Cross-entropy loss = 16.1640 & accuracy = 35.00%\n",
      "epoch: 200, total cost: 1.4405, KL-div loss = 0.0842, Cross-entropy loss = 1.3563 & accuracy = 71.67%\n",
      "epoch: 300, total cost: 1.1238, KL-div loss = 0.1163, Cross-entropy loss = 1.0075 & accuracy = 70.83%\n",
      "epoch: 400, total cost: 2.7063, KL-div loss = 0.1410, Cross-entropy loss = 2.5654 & accuracy = 65.00%\n",
      "epoch: 500, total cost: 1.5906, KL-div loss = 0.1600, Cross-entropy loss = 1.4306 & accuracy = 81.67%\n",
      "epoch: 600, total cost: 0.9767, KL-div loss = 0.1746, Cross-entropy loss = 0.8021 & accuracy = 89.17%\n",
      "epoch: 700, total cost: 0.7307, KL-div loss = 0.1959, Cross-entropy loss = 0.5349 & accuracy = 82.50%\n",
      "epoch: 800, total cost: 1.2320, KL-div loss = 0.2124, Cross-entropy loss = 1.0196 & accuracy = 74.17%\n",
      "epoch: 900, total cost: 0.4691, KL-div loss = 0.2277, Cross-entropy loss = 0.2415 & accuracy = 93.33%\n",
      "epoch: 1000, total cost: 0.4603, KL-div loss = 0.2377, Cross-entropy loss = 0.2226 & accuracy = 94.17%\n",
      "epoch: 1100, total cost: 0.6897, KL-div loss = 0.2499, Cross-entropy loss = 0.4398 & accuracy = 91.67%\n",
      "epoch: 1200, total cost: 0.6280, KL-div loss = 0.2593, Cross-entropy loss = 0.3687 & accuracy = 93.33%\n",
      "epoch: 1300, total cost: 1.5011, KL-div loss = 0.2681, Cross-entropy loss = 1.2330 & accuracy = 85.83%\n",
      "epoch: 1400, total cost: 0.7355, KL-div loss = 0.2810, Cross-entropy loss = 0.4545 & accuracy = 92.50%\n",
      "epoch: 1500, total cost: 0.6620, KL-div loss = 0.2877, Cross-entropy loss = 0.3743 & accuracy = 91.67%\n",
      "epoch: 1600, total cost: 0.4706, KL-div loss = 0.2963, Cross-entropy loss = 0.1743 & accuracy = 95.83%\n",
      "epoch: 1700, total cost: 0.4211, KL-div loss = 0.3033, Cross-entropy loss = 0.1177 & accuracy = 94.17%\n",
      "epoch: 1800, total cost: 0.4569, KL-div loss = 0.3073, Cross-entropy loss = 0.1495 & accuracy = 96.67%\n",
      "epoch: 1900, total cost: 0.4514, KL-div loss = 0.3111, Cross-entropy loss = 0.1404 & accuracy = 95.00%\n",
      "epoch: 2000, total cost: 0.3787, KL-div loss = 0.3154, Cross-entropy loss = 0.0633 & accuracy = 97.50%\n",
      "epoch: 2100, total cost: 0.7877, KL-div loss = 0.3165, Cross-entropy loss = 0.4712 & accuracy = 89.17%\n",
      "epoch: 2200, total cost: 0.4126, KL-div loss = 0.3196, Cross-entropy loss = 0.0929 & accuracy = 95.83%\n",
      "epoch: 2300, total cost: 0.3879, KL-div loss = 0.3201, Cross-entropy loss = 0.0678 & accuracy = 96.67%\n",
      "epoch: 2400, total cost: 0.4721, KL-div loss = 0.3176, Cross-entropy loss = 0.1545 & accuracy = 95.83%\n",
      "epoch: 2500, total cost: 0.3842, KL-div loss = 0.3210, Cross-entropy loss = 0.0632 & accuracy = 96.67%\n",
      "epoch: 2600, total cost: 0.4593, KL-div loss = 0.3210, Cross-entropy loss = 0.1383 & accuracy = 96.67%\n",
      "epoch: 2700, total cost: 0.8772, KL-div loss = 0.3279, Cross-entropy loss = 0.5493 & accuracy = 86.67%\n",
      "epoch: 2800, total cost: 0.4648, KL-div loss = 0.3267, Cross-entropy loss = 0.1381 & accuracy = 95.00%\n",
      "epoch: 2900, total cost: 0.4173, KL-div loss = 0.3253, Cross-entropy loss = 0.0920 & accuracy = 97.50%\n"
     ]
    }
   ],
   "source": [
    "# Train neural network using Batch Gradient Descent-\n",
    "for epoch in range(3000):\n",
    "    # Make predictions-\n",
    "    pred = model(X_train)\n",
    "    \n",
    "    # Compute Cross-entropy error-\n",
    "    ce = ce_loss(pred, y_train)\n",
    "    \n",
    "    # Compute KL-divergence loss-\n",
    "    kl = kl_loss(model)\n",
    "    \n",
    "    # Compute total cost-\n",
    "    total_cost = ce + (kl_weight * kl)\n",
    "    \n",
    "    # Empty accumulated gradients-\n",
    "    optimizer.zero_grad()\n",
    "    \n",
    "    # Perform gradient descent-\n",
    "    total_cost.backward()\n",
    "    optimizer.step()\n",
    "    \n",
    "    # Calculate accuracy-\n",
    "    _, predicted = torch.max(pred.data, 1)\n",
    "    total = y_train.size(0)\n",
    "    correct = (predicted == y_train).sum()\n",
    "    \n",
    "    \n",
    "    if epoch % 100 == 0:\n",
    "        print(f\"epoch: {epoch}, total cost: {total_cost.detach().numpy()[0]:.4f}\"\n",
    "              f\", KL-div loss = {kl.detach().numpy()[0]:.4f}, \"\n",
    "              f\"Cross-entropy loss = {ce.detach().numpy():.4f}\"\n",
    "              f\" & accuracy = {100 * float(correct) / total:.2f}%\"\n",
    "             )\n",
    "    \n",
    "    # Store in dict-\n",
    "    bnn_losses[epoch] = {\n",
    "        'total_cost': total_cost.detach().numpy(), 'kl_loss': kl.detach().numpy()[0],\n",
    "        'ce_loss': ce.detach().numpy(), 'acc': 100 * float(correct) / total\n",
    "    }\n",
    "    \n"
   ]
  },
  {
   "cell_type": "code",
   "execution_count": null,
   "id": "cab486d2-1750-49c3-8689-145205e99217",
   "metadata": {},
   "outputs": [],
   "source": []
  },
  {
   "cell_type": "code",
   "execution_count": null,
   "id": "1161fec0-f538-46ea-a789-9c54e5490d4b",
   "metadata": {},
   "outputs": [],
   "source": []
  },
  {
   "cell_type": "markdown",
   "id": "ee204b09-a4f6-44f8-919a-5cd05c6ff78b",
   "metadata": {},
   "source": [
    "### Visualize BNN training"
   ]
  },
  {
   "cell_type": "code",
   "execution_count": 26,
   "id": "cfd21abd-4913-4762-b4f5-115d79009feb",
   "metadata": {},
   "outputs": [
    {
     "data": {
      "image/png": "[encoded data removed]",
      "text/plain": [
       "<Figure size 648x504 with 1 Axes>"
      ]
     },
     "metadata": {
      "needs_background": "light"
     },
     "output_type": "display_data"
    }
   ],
   "source": [
    "plt.figure(figsize = (9, 7))\n",
    "plt.plot([bnn_losses[s]['total_cost'] for s in bnn_losses.keys()], label = 'total cost')\n",
    "plt.plot([bnn_losses[s]['ce_loss'] for s in bnn_losses.keys()], label = 'Cross-entropy loss')\n",
    "plt.title(\"Bayesian Neural Network Classifier - Losses\")\n",
    "plt.legend(loc = 'best')\n",
    "plt.show()"
   ]
  },
  {
   "cell_type": "code",
   "execution_count": 27,
   "id": "6b93b986-49c5-4404-9b1b-fdf414725c03",
   "metadata": {},
   "outputs": [
    {
     "data": {
      "image/png": "[encoded data removed]",
      "text/plain": [
       "<Figure size 648x504 with 1 Axes>"
      ]
     },
     "metadata": {
      "needs_background": "light"
     },
     "output_type": "display_data"
    }
   ],
   "source": [
    "plt.figure(figsize = (9, 7))\n",
    "plt.plot([bnn_losses[s]['kl_loss'] for s in bnn_losses.keys()], label = 'kl-div loss')\n",
    "plt.title(\"Bayesian Neural Network Classifier - Losses\")\n",
    "plt.legend(loc = 'best')\n",
    "plt.show()"
   ]
  },
  {
   "cell_type": "code",
   "execution_count": 28,
   "id": "1c4c065f-9768-47a1-b3a5-a3fbd2157965",
   "metadata": {},
   "outputs": [
    {
     "data": {
      "image/png": "[encoded data removed]",
      "text/plain": [
       "<Figure size 648x504 with 1 Axes>"
      ]
     },
     "metadata": {
      "needs_background": "light"
     },
     "output_type": "display_data"
    }
   ],
   "source": [
    "plt.figure(figsize = (9, 7))\n",
    "plt.plot([bnn_losses[s]['acc'] for s in bnn_losses.keys()])\n",
    "plt.title(\"Bayesian Neural Network Classifier - Accuracy\")\n",
    "plt.xlabel(\"steps\")\n",
    "plt.ylabel(\"acc %\")\n",
    "# plt.legend(loc = 'best')\n",
    "plt.show()"
   ]
  },
  {
   "cell_type": "code",
   "execution_count": null,
   "id": "daf61e45-de9e-43fb-81a4-18b9a1afc430",
   "metadata": {},
   "outputs": [],
   "source": []
  },
  {
   "cell_type": "code",
   "execution_count": 29,
   "id": "475c27a2-da7e-4848-896d-03d7d9f64898",
   "metadata": {},
   "outputs": [],
   "source": [
    "# Make predictions using trained model-\n",
    "y_pred = model(X_test)"
   ]
  },
  {
   "cell_type": "code",
   "execution_count": 30,
   "id": "512db001-d303-4ad8-8e54-ee4b3ec8f791",
   "metadata": {},
   "outputs": [
    {
     "data": {
      "text/plain": [
       "(torch.Size([30, 3]), torch.Size([30]))"
      ]
     },
     "execution_count": 30,
     "metadata": {},
     "output_type": "execute_result"
    }
   ],
   "source": [
    "y_pred.shape, y_test.shape"
   ]
  },
  {
   "cell_type": "code",
   "execution_count": 33,
   "id": "888509df-2118-45f1-b0ab-3148a2da2dbc",
   "metadata": {},
   "outputs": [],
   "source": [
    "_, y_pred = torch.max(y_pred, 1)"
   ]
  },
  {
   "cell_type": "code",
   "execution_count": 34,
   "id": "5b23fd1f-f31e-48ac-a028-ef99ab4423cb",
   "metadata": {},
   "outputs": [],
   "source": [
    "# Compute metrics on validation data-\n",
    "acc = accuracy_score(y_true = y_test, y_pred = y_pred)\n",
    "rec = recall_score(y_true = y_test, y_pred = y_pred, average = 'macro')\n",
    "prec = precision_score(y_true = y_test, y_pred = y_pred, average = 'macro')"
   ]
  },
  {
   "cell_type": "code",
   "execution_count": 36,
   "id": "40388862-5a95-49dd-b6cf-f0f116b00275",
   "metadata": {},
   "outputs": [
    {
     "name": "stdout",
     "output_type": "stream",
     "text": [
      "Validation data metrics:\n",
      "accuracy = 100.00%, precision = 100.00% & recall = 100.00%\n"
     ]
    }
   ],
   "source": [
    "print(\"Validation data metrics:\")\n",
    "print(f\"accuracy = {acc * 100:.2f}%, precision = {prec * 100:.2f}% &\"\n",
    "      f\" recall = {rec * 100:.2f}%\")"
   ]
  },
  {
   "cell_type": "code",
   "execution_count": 37,
   "id": "565ad715-8916-4c2d-a0d1-8fabd919a379",
   "metadata": {},
   "outputs": [
    {
     "name": "stdout",
     "output_type": "stream",
     "text": [
      "Confusion matrix:\n",
      "[[ 8  0  0]\n",
      " [ 0 11  0]\n",
      " [ 0  0 11]]\n"
     ]
    }
   ],
   "source": [
    "print(f\"Confusion matrix:\\n{confusion_matrix(y_true = y_test, y_pred = y_pred)}\")"
   ]
  },
  {
   "cell_type": "code",
   "execution_count": null,
   "id": "48c137b2-7ee1-4922-a88e-8e585ec32de9",
   "metadata": {},
   "outputs": [],
   "source": []
  },
  {
   "cell_type": "code",
   "execution_count": null,
   "id": "6d097ef8-e5dc-4e67-85da-4183fa403393",
   "metadata": {},
   "outputs": [],
   "source": []
  },
  {
   "cell_type": "code",
   "execution_count": 38,
   "id": "4935303f-ee08-40e6-a158-cc6c8987169f",
   "metadata": {},
   "outputs": [],
   "source": [
    "# Save trained BNN classifier model's weights-\n",
    "torch.save(model.state_dict(), 'BNN_Iris_Classifier_trained.pth')"
   ]
  },
  {
   "cell_type": "code",
   "execution_count": 39,
   "id": "950dc8a1-ce66-4abc-9965-c649916c28f2",
   "metadata": {},
   "outputs": [
    {
     "data": {
      "text/plain": [
       "<All keys matched successfully>"
      ]
     },
     "execution_count": 39,
     "metadata": {},
     "output_type": "execute_result"
    }
   ],
   "source": [
    "# Sanity check.\n",
    "# Load trained weights from before-\n",
    "loaded_model = Bayes_NN_Classifier().to(device)\n",
    "loaded_model.load_state_dict(torch.load('BNN_Iris_Classifier_trained.pth', map_location = torch.device('cpu')))"
   ]
  },
  {
   "cell_type": "code",
   "execution_count": 40,
   "id": "05c1182e-89f6-4797-a9c2-e650f12d198e",
   "metadata": {},
   "outputs": [],
   "source": [
    "# Make predictions using trained & loaded model-\n",
    "pred = loaded_model(X_test)"
   ]
  },
  {
   "cell_type": "code",
   "execution_count": 41,
   "id": "9a89e59b-9fa7-4178-8ed1-e36a8e05a8e4",
   "metadata": {},
   "outputs": [],
   "source": [
    "_, predicted = torch.max(pred.data, 1)\n",
    "total = y_test.size(0)\n",
    "correct = (predicted == y_test).sum()"
   ]
  },
  {
   "cell_type": "code",
   "execution_count": 42,
   "id": "60e05a4c-a126-40ee-9b2d-f38968722a3b",
   "metadata": {},
   "outputs": [
    {
     "name": "stdout",
     "output_type": "stream",
     "text": [
      "Accuracy = 90.00%\n"
     ]
    }
   ],
   "source": [
    "print(f\"Accuracy = {correct/total * 100:.2f}%\")"
   ]
  },
  {
   "cell_type": "code",
   "execution_count": 43,
   "id": "957762ad-5cd7-425c-a9d7-f43a489fba2a",
   "metadata": {},
   "outputs": [],
   "source": [
    "del loaded_model"
   ]
  },
  {
   "cell_type": "code",
   "execution_count": null,
   "id": "692d01e4-7ac5-4865-8873-52f7f5259d76",
   "metadata": {},
   "outputs": [],
   "source": []
  },
  {
   "cell_type": "code",
   "execution_count": null,
   "id": "e6a123ff-ab84-49f4-9d38-f0602313d1fc",
   "metadata": {},
   "outputs": [],
   "source": []
  },
  {
   "cell_type": "code",
   "execution_count": 44,
   "id": "6df29df3-0681-4cbd-8ead-025baf64337e",
   "metadata": {},
   "outputs": [],
   "source": [
    "import pickle\n",
    "\n",
    "# Save training history as pickle file-\n",
    "with open(\"BNN_Iris_classifier_training_history.pkl\", \"wb\") as file:\n",
    "    pickle.dump(bnn_losses, file)"
   ]
  },
  {
   "cell_type": "code",
   "execution_count": null,
   "id": "fed63aa6-7bb4-4877-87c0-2f694ec85f1e",
   "metadata": {},
   "outputs": [],
   "source": []
  },
  {
   "cell_type": "code",
   "execution_count": null,
   "id": "94153a55-8fd7-44c8-beea-64b79877b00e",
   "metadata": {},
   "outputs": [],
   "source": []
  },
  {
   "cell_type": "markdown",
   "id": "5aabac42-3762-4fea-b808-4b4ea6777121",
   "metadata": {},
   "source": [
    "### NOTE: _Batch Gradient Descent_ is used instead of _Mini-Batch Gradient Descent_ for the examples above."
   ]
  },
  {
   "cell_type": "code",
   "execution_count": null,
   "id": "f319251b-9f94-4cb7-accf-d5d27f489c97",
   "metadata": {},
   "outputs": [],
   "source": []
  }
 ],
 "metadata": {
  "kernelspec": {
   "display_name": "Python 3 (ipykernel)",
   "language": "python",
   "name": "python3"
  },
  "language_info": {
   "codemirror_mode": {
    "name": "ipython",
    "version": 3
   },
   "file_extension": ".py",
   "mimetype": "text/x-python",
   "name": "python",
   "nbconvert_exporter": "python",
   "pygments_lexer": "ipython3",
   "version": "3.9.12"
  }
 },
 "nbformat": 4,
 "nbformat_minor": 5
}
